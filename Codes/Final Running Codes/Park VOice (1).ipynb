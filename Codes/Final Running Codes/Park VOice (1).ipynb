{
 "cells": [
  {
   "cell_type": "code",
   "execution_count": 1,
   "metadata": {
    "colab": {
     "base_uri": "https://localhost:8080/",
     "height": 204
    },
    "colab_type": "code",
    "executionInfo": {
     "elapsed": 5321,
     "status": "ok",
     "timestamp": 1544123593037,
     "user": {
      "displayName": "Himanshu Sharma",
      "photoUrl": "",
      "userId": "01462476739610356267"
     },
     "user_tz": -330
    },
    "id": "ooBR3EpDf7RS",
    "outputId": "d9654f64-60c3-4d48-d09c-243c197454c5"
   },
   "outputs": [
    {
     "name": "stdout",
     "output_type": "stream",
     "text": [
      "--2018-12-06 19:13:13--  https://raw.githubusercontent.com/sumitpundir/Verification-of-Parkinson-s-Disease-through-Voice-Data/master/parkinsons.csv\n",
      "Resolving raw.githubusercontent.com (raw.githubusercontent.com)... 151.101.0.133, 151.101.64.133, 151.101.128.133, ...\n",
      "Connecting to raw.githubusercontent.com (raw.githubusercontent.com)|151.101.0.133|:443... connected.\n",
      "HTTP request sent, awaiting response... 200 OK\n",
      "Length: 40697 (40K) [text/plain]\n",
      "Saving to: ‘parkinsons.csv’\n",
      "\n",
      "\r",
      "parkinsons.csv        0%[                    ]       0  --.-KB/s               \r",
      "parkinsons.csv      100%[===================>]  39.74K  --.-KB/s    in 0.01s   \n",
      "\n",
      "2018-12-06 19:13:13 (3.10 MB/s) - ‘parkinsons.csv’ saved [40697/40697]\n",
      "\n"
     ]
    }
   ],
   "source": [
    "!wget \"https://raw.githubusercontent.com/sumitpundir/Verification-of-Parkinson-s-Disease-through-Voice-Data/master/parkinsons.csv\""
   ]
  },
  {
   "cell_type": "code",
   "execution_count": 0,
   "metadata": {
    "colab": {},
    "colab_type": "code",
    "id": "DoMF36vkma53"
   },
   "outputs": [],
   "source": [
    "from keras.layers import Input\n",
    "from keras.models import Model, Sequential\n",
    "from keras.layers.core import Reshape, Dense, Dropout, Flatten\n",
    "from keras.layers.advanced_activations import LeakyReLU\n",
    "from keras.layers.convolutional import Convolution2D, UpSampling2D\n",
    "from keras.layers.normalization import BatchNormalization\n",
    "from keras.datasets import mnist\n",
    "from keras import optimizers\n",
    "from keras.optimizers import Adam\n",
    "from keras import backend as K\n",
    "from keras import initializers\n",
    "from keras.layers import Conv2D\n",
    "from keras.layers import MaxPooling2D"
   ]
  },
  {
   "cell_type": "code",
   "execution_count": 3,
   "metadata": {
    "colab": {
     "base_uri": "https://localhost:8080/",
     "height": 105
    },
    "colab_type": "code",
    "executionInfo": {
     "elapsed": 1306,
     "status": "ok",
     "timestamp": 1544123658143,
     "user": {
      "displayName": "Himanshu Sharma",
      "photoUrl": "",
      "userId": "01462476739610356267"
     },
     "user_tz": -330
    },
    "id": "dzQgo_jQgO1V",
    "outputId": "70177922-f492-47e8-d376-a8b54beef50c"
   },
   "outputs": [
    {
     "name": "stderr",
     "output_type": "stream",
     "text": [
      "/usr/local/lib/python3.6/dist-packages/sklearn/cross_validation.py:41: DeprecationWarning: This module was deprecated in version 0.18 in favor of the model_selection module into which all the refactored classes and functions are moved. Also note that the interface of the new CV iterators are different from that of this module. This module will be removed in 0.20.\n",
      "  \"This module will be removed in 0.20.\", DeprecationWarning)\n",
      "/usr/local/lib/python3.6/dist-packages/sklearn/grid_search.py:42: DeprecationWarning: This module was deprecated in version 0.18 in favor of the model_selection module into which all the refactored classes and functions are moved. This module will be removed in 0.20.\n",
      "  DeprecationWarning)\n"
     ]
    }
   ],
   "source": [
    "import numpy as np\n",
    "import pandas as pd\n",
    "from time import time\n",
    "from sklearn.naive_bayes import GaussianNB\n",
    "from sklearn import svm\n",
    "from sklearn.linear_model import SGDClassifier\n",
    "from sklearn.ensemble import GradientBoostingClassifier\n",
    "from sklearn.metrics import make_scorer\n",
    "from sklearn.grid_search import GridSearchCV\n",
    "from sklearn.metrics import f1_score\n",
    "import numpy as np\n",
    "import pandas as pd\n",
    "from time import time\n",
    "from sklearn.cross_validation import train_test_split\n",
    "\n",
    "\n",
    "import matplotlib.pyplot as plt\n",
    "from sklearn import datasets\n",
    "\n",
    "par = pd.read_csv(\"parkinsons.csv\")"
   ]
  },
  {
   "cell_type": "code",
   "execution_count": 4,
   "metadata": {
    "colab": {
     "base_uri": "https://localhost:8080/",
     "height": 34
    },
    "colab_type": "code",
    "executionInfo": {
     "elapsed": 973,
     "status": "ok",
     "timestamp": 1544123659375,
     "user": {
      "displayName": "Himanshu Sharma",
      "photoUrl": "",
      "userId": "01462476739610356267"
     },
     "user_tz": -330
    },
    "id": "1z0RO_prg9BY",
    "outputId": "6349e514-c334-4642-fb16-e97a8091265e"
   },
   "outputs": [
    {
     "data": {
      "text/plain": [
       "(195, 24)"
      ]
     },
     "execution_count": 4,
     "metadata": {
      "tags": []
     },
     "output_type": "execute_result"
    }
   ],
   "source": [
    "par.shape"
   ]
  },
  {
   "cell_type": "code",
   "execution_count": 0,
   "metadata": {
    "colab": {},
    "colab_type": "code",
    "id": "dk0yxNGlhRWv"
   },
   "outputs": [],
   "source": [
    "n_patients = par.shape[0]   ##number of patients\n",
    "n_features = par.shape[1]-1 ##number of features"
   ]
  },
  {
   "cell_type": "code",
   "execution_count": 0,
   "metadata": {
    "colab": {},
    "colab_type": "code",
    "id": "uHMFb6J3iPIC"
   },
   "outputs": [],
   "source": [
    "n_parkinsons = par[par['status'] == 1].shape[0] ##persons with parkinson \n",
    "n_healthy = par[par['status'] == 0].shape[0]"
   ]
  },
  {
   "cell_type": "code",
   "execution_count": 7,
   "metadata": {
    "colab": {
     "base_uri": "https://localhost:8080/",
     "height": 85
    },
    "colab_type": "code",
    "executionInfo": {
     "elapsed": 654,
     "status": "ok",
     "timestamp": 1544123663850,
     "user": {
      "displayName": "Himanshu Sharma",
      "photoUrl": "",
      "userId": "01462476739610356267"
     },
     "user_tz": -330
    },
    "id": "t56c9CZ1ibtR",
    "outputId": "f40557bf-6306-4f10-fa56-a822c16afc38"
   },
   "outputs": [
    {
     "name": "stdout",
     "output_type": "stream",
     "text": [
      "total number of patients: 195\n",
      "number of features: 23\n",
      "number of patients with parkinson: 147\n",
      "number of patients without parkinsons: 48\n"
     ]
    }
   ],
   "source": [
    "print(\"total number of patients:\", n_patients)\n",
    "print(\"number of features:\", n_features)\n",
    "print(\"number of patients with parkinson:\", n_parkinsons)\n",
    "print(\"number of patients without parkinsons:\", n_healthy)\n"
   ]
  },
  {
   "cell_type": "code",
   "execution_count": 0,
   "metadata": {
    "colab": {},
    "colab_type": "code",
    "id": "JYM9lLpuiozO"
   },
   "outputs": [],
   "source": [
    "X = list(par.columns[1:17]) + list(par.columns[18:])\n",
    "Y  = par.columns[17]"
   ]
  },
  {
   "cell_type": "code",
   "execution_count": 9,
   "metadata": {
    "colab": {
     "base_uri": "https://localhost:8080/",
     "height": 34
    },
    "colab_type": "code",
    "executionInfo": {
     "elapsed": 609,
     "status": "ok",
     "timestamp": 1544123667122,
     "user": {
      "displayName": "Himanshu Sharma",
      "photoUrl": "",
      "userId": "01462476739610356267"
     },
     "user_tz": -330
    },
    "id": "NPaxJ2EVjjBV",
    "outputId": "efc985fd-7273-409f-b33f-a15f8c00459d"
   },
   "outputs": [
    {
     "data": {
      "text/plain": [
       "'name'"
      ]
     },
     "execution_count": 9,
     "metadata": {
      "tags": []
     },
     "output_type": "execute_result"
    }
   ],
   "source": [
    "par.columns[0]"
   ]
  },
  {
   "cell_type": "code",
   "execution_count": 0,
   "metadata": {
    "colab": {},
    "colab_type": "code",
    "id": "6DMLAtOMi41t"
   },
   "outputs": [],
   "source": [
    "Xf = par[X]\n",
    "Yf = par[Y]"
   ]
  },
  {
   "cell_type": "code",
   "execution_count": 0,
   "metadata": {
    "colab": {},
    "colab_type": "code",
    "id": "sdPj7h0bi8NC"
   },
   "outputs": [],
   "source": [
    "Yf"
   ]
  },
  {
   "cell_type": "code",
   "execution_count": 0,
   "metadata": {
    "colab": {},
    "colab_type": "code",
    "id": "9syXKDDitcNR"
   },
   "outputs": [],
   "source": [
    "from sklearn.utils import class_weight"
   ]
  },
  {
   "cell_type": "code",
   "execution_count": 0,
   "metadata": {
    "colab": {},
    "colab_type": "code",
    "id": "Zb04hAdctdnJ"
   },
   "outputs": [],
   "source": []
  },
  {
   "cell_type": "code",
   "execution_count": 0,
   "metadata": {
    "colab": {},
    "colab_type": "code",
    "id": "MbGA-MaljIy6"
   },
   "outputs": [],
   "source": [
    "x_train,x_test,y_train,y_test = train_test_split(Xf, Yf, test_size=0.2, random_state=1)"
   ]
  },
  {
   "cell_type": "code",
   "execution_count": 14,
   "metadata": {
    "colab": {
     "base_uri": "https://localhost:8080/",
     "height": 34
    },
    "colab_type": "code",
    "executionInfo": {
     "elapsed": 706,
     "status": "ok",
     "timestamp": 1544123671196,
     "user": {
      "displayName": "Himanshu Sharma",
      "photoUrl": "",
      "userId": "01462476739610356267"
     },
     "user_tz": -330
    },
    "id": "NQh-LHFUpJID",
    "outputId": "a8789655-5e4c-4b06-f221-4474329477bd"
   },
   "outputs": [
    {
     "data": {
      "text/plain": [
       "1"
      ]
     },
     "execution_count": 14,
     "metadata": {
      "tags": []
     },
     "output_type": "execute_result"
    }
   ],
   "source": [
    "y_test = list(y_test)\n",
    "y_train = list(y_train)\n",
    "y_test[0]"
   ]
  },
  {
   "cell_type": "code",
   "execution_count": 0,
   "metadata": {
    "colab": {},
    "colab_type": "code",
    "id": "JIUtDhiEthPf"
   },
   "outputs": [],
   "source": [
    "class_weights = class_weight.compute_class_weight('balanced',\n",
    "                                                 np.unique(y_train),\n",
    "                                                 y_train)"
   ]
  },
  {
   "cell_type": "code",
   "execution_count": 0,
   "metadata": {
    "colab": {
     "base_uri": "https://localhost:8080/",
     "height": 34
    },
    "colab_type": "code",
    "executionInfo": {
     "elapsed": 963,
     "status": "ok",
     "timestamp": 1544019135259,
     "user": {
      "displayName": "Himanshu Sharma",
      "photoUrl": "",
      "userId": "01462476739610356267"
     },
     "user_tz": -330
    },
    "id": "YQ-dfF4OtjbG",
    "outputId": "04f6dcd7-0f0c-464e-8d8f-4e9f944cd7ec"
   },
   "outputs": [
    {
     "data": {
      "text/plain": [
       "array([2.05263158, 0.66101695])"
      ]
     },
     "execution_count": 167,
     "metadata": {
      "tags": []
     },
     "output_type": "execute_result"
    }
   ],
   "source": [
    "class_weights"
   ]
  },
  {
   "cell_type": "code",
   "execution_count": 0,
   "metadata": {
    "colab": {},
    "colab_type": "code",
    "id": "zomglXscunKi"
   },
   "outputs": [],
   "source": [
    "class_weight = {0: 3.,\n",
    "                1: 1.}"
   ]
  },
  {
   "cell_type": "code",
   "execution_count": 0,
   "metadata": {
    "colab": {},
    "colab_type": "code",
    "id": "0BCAXh1Ypbk0"
   },
   "outputs": [],
   "source": [
    "y_train"
   ]
  },
  {
   "cell_type": "code",
   "execution_count": 16,
   "metadata": {
    "colab": {
     "base_uri": "https://localhost:8080/",
     "height": 34
    },
    "colab_type": "code",
    "executionInfo": {
     "elapsed": 621,
     "status": "ok",
     "timestamp": 1544123675715,
     "user": {
      "displayName": "Himanshu Sharma",
      "photoUrl": "",
      "userId": "01462476739610356267"
     },
     "user_tz": -330
    },
    "id": "k_32eVR7jbqR",
    "outputId": "111349f9-26f9-4193-8b32-d418e0e0edd6"
   },
   "outputs": [
    {
     "data": {
      "text/plain": [
       "(156, 22)"
      ]
     },
     "execution_count": 16,
     "metadata": {
      "tags": []
     },
     "output_type": "execute_result"
    }
   ],
   "source": [
    "x_train.shape"
   ]
  },
  {
   "cell_type": "code",
   "execution_count": 0,
   "metadata": {
    "colab": {},
    "colab_type": "code",
    "id": "VzDlK5Lejf8o"
   },
   "outputs": [],
   "source": [
    "from sklearn.preprocessing import StandardScaler"
   ]
  },
  {
   "cell_type": "code",
   "execution_count": 0,
   "metadata": {
    "colab": {},
    "colab_type": "code",
    "id": "9o4WZDKBklxV"
   },
   "outputs": [],
   "source": [
    "scaler = StandardScaler()"
   ]
  },
  {
   "cell_type": "code",
   "execution_count": 19,
   "metadata": {
    "colab": {
     "base_uri": "https://localhost:8080/",
     "height": 34
    },
    "colab_type": "code",
    "executionInfo": {
     "elapsed": 928,
     "status": "ok",
     "timestamp": 1544123685521,
     "user": {
      "displayName": "Himanshu Sharma",
      "photoUrl": "",
      "userId": "01462476739610356267"
     },
     "user_tz": -330
    },
    "id": "mepcwjxJlAJ5",
    "outputId": "8b514262-05ae-4a2e-a232-9a3f8f7371c9"
   },
   "outputs": [
    {
     "data": {
      "text/plain": [
       "StandardScaler(copy=True, with_mean=True, with_std=True)"
      ]
     },
     "execution_count": 19,
     "metadata": {
      "tags": []
     },
     "output_type": "execute_result"
    }
   ],
   "source": [
    "scaler.fit(x_train)"
   ]
  },
  {
   "cell_type": "code",
   "execution_count": 0,
   "metadata": {
    "colab": {},
    "colab_type": "code",
    "id": "xQG9s-3NlD3X"
   },
   "outputs": [],
   "source": [
    "x_train_normal = scaler.transform(x_train)"
   ]
  },
  {
   "cell_type": "code",
   "execution_count": 0,
   "metadata": {
    "colab": {},
    "colab_type": "code",
    "id": "poUBLxFnlHMI"
   },
   "outputs": [],
   "source": [
    "def build_network(input_features=None):\n",
    "    # first we specify an input layer, with a shape == features\n",
    "    inputs = Input(shape=(input_features,), name=\"input\")\n",
    "    x = Dense(64, activation='relu', name=\"hidden1\")(inputs)\n",
    "    x = Dense(32, activation='relu', name=\"hidden4\")(x)\n",
    "    x = Dense(16, activation='relu', name=\"hidden5\")(x)\n",
    "    prediction = Dense(1, activation='sigmoid', name=\"final\")(x)\n",
    "    model = Model(inputs=inputs, outputs=prediction)\n",
    "    model.compile(optimizer='adam', loss='binary_crossentropy', metrics=[\"accuracy\"])\n",
    "    return model"
   ]
  },
  {
   "cell_type": "code",
   "execution_count": 0,
   "metadata": {
    "colab": {},
    "colab_type": "code",
    "id": "NVjaEQmClL-D"
   },
   "outputs": [],
   "source": [
    "input_features = x_train_normal.shape[1]"
   ]
  },
  {
   "cell_type": "code",
   "execution_count": 128,
   "metadata": {
    "colab": {
     "base_uri": "https://localhost:8080/",
     "height": 34
    },
    "colab_type": "code",
    "executionInfo": {
     "elapsed": 1004,
     "status": "ok",
     "timestamp": 1544126075027,
     "user": {
      "displayName": "Himanshu Sharma",
      "photoUrl": "",
      "userId": "01462476739610356267"
     },
     "user_tz": -330
    },
    "id": "KFSDvdY3qOCg",
    "outputId": "41f4e449-1ab4-401f-d61a-7d7f09957374"
   },
   "outputs": [
    {
     "data": {
      "text/plain": [
       "(156, 22)"
      ]
     },
     "execution_count": 128,
     "metadata": {
      "tags": []
     },
     "output_type": "execute_result"
    }
   ],
   "source": [
    "x_train_normal.shape"
   ]
  },
  {
   "cell_type": "code",
   "execution_count": 0,
   "metadata": {
    "colab": {},
    "colab_type": "code",
    "id": "PNueHS0hmF2t"
   },
   "outputs": [],
   "source": [
    "model = build_network(input_features=input_features)"
   ]
  },
  {
   "cell_type": "code",
   "execution_count": 130,
   "metadata": {
    "colab": {
     "base_uri": "https://localhost:8080/",
     "height": 306
    },
    "colab_type": "code",
    "executionInfo": {
     "elapsed": 861,
     "status": "ok",
     "timestamp": 1544126075626,
     "user": {
      "displayName": "Himanshu Sharma",
      "photoUrl": "",
      "userId": "01462476739610356267"
     },
     "user_tz": -330
    },
    "id": "WLSIU_t6nzh7",
    "outputId": "e30d3797-ffc1-42a1-a728-974fd6c8a9d1"
   },
   "outputs": [
    {
     "name": "stdout",
     "output_type": "stream",
     "text": [
      "_________________________________________________________________\n",
      "Layer (type)                 Output Shape              Param #   \n",
      "=================================================================\n",
      "input (InputLayer)           (None, 22)                0         \n",
      "_________________________________________________________________\n",
      "hidden1 (Dense)              (None, 64)                1472      \n",
      "_________________________________________________________________\n",
      "hidden4 (Dense)              (None, 32)                2080      \n",
      "_________________________________________________________________\n",
      "hidden5 (Dense)              (None, 16)                528       \n",
      "_________________________________________________________________\n",
      "final (Dense)                (None, 1)                 17        \n",
      "=================================================================\n",
      "Total params: 4,097\n",
      "Trainable params: 4,097\n",
      "Non-trainable params: 0\n",
      "_________________________________________________________________\n"
     ]
    }
   ],
   "source": [
    "model.summary()"
   ]
  },
  {
   "cell_type": "code",
   "execution_count": 131,
   "metadata": {
    "colab": {
     "base_uri": "https://localhost:8080/",
     "height": 901
    },
    "colab_type": "code",
    "executionInfo": {
     "elapsed": 3651,
     "status": "ok",
     "timestamp": 1544126078967,
     "user": {
      "displayName": "Himanshu Sharma",
      "photoUrl": "",
      "userId": "01462476739610356267"
     },
     "user_tz": -330
    },
    "id": "bB8Vpr4bmj5m",
    "outputId": "23bed8c7-6fb5-4bdd-bac0-92cd37568709"
   },
   "outputs": [
    {
     "name": "stdout",
     "output_type": "stream",
     "text": [
      "Train on 156 samples, validate on 39 samples\n",
      "Epoch 1/25\n",
      "156/156 [==============================] - 2s 11ms/step - loss: 0.8378 - acc: 0.6538 - val_loss: 3.4915 - val_acc: 0.7436\n",
      "Epoch 2/25\n",
      "156/156 [==============================] - 0s 180us/step - loss: 0.7152 - acc: 0.7308 - val_loss: 3.3938 - val_acc: 0.7436\n",
      "Epoch 3/25\n",
      "156/156 [==============================] - 0s 167us/step - loss: 0.6422 - acc: 0.7564 - val_loss: 3.5909 - val_acc: 0.7436\n",
      "Epoch 4/25\n",
      "156/156 [==============================] - 0s 158us/step - loss: 0.5797 - acc: 0.7821 - val_loss: 3.5920 - val_acc: 0.7436\n",
      "Epoch 5/25\n",
      "156/156 [==============================] - 0s 165us/step - loss: 0.5296 - acc: 0.8333 - val_loss: 4.0878 - val_acc: 0.7436\n",
      "Epoch 6/25\n",
      "156/156 [==============================] - 0s 168us/step - loss: 0.4810 - acc: 0.8526 - val_loss: 4.0700 - val_acc: 0.7436\n",
      "Epoch 7/25\n",
      "156/156 [==============================] - 0s 166us/step - loss: 0.4400 - acc: 0.8526 - val_loss: 4.0878 - val_acc: 0.7436\n",
      "Epoch 8/25\n",
      "156/156 [==============================] - 0s 161us/step - loss: 0.4059 - acc: 0.8718 - val_loss: 4.0878 - val_acc: 0.7436\n",
      "Epoch 9/25\n",
      "156/156 [==============================] - 0s 151us/step - loss: 0.3729 - acc: 0.8782 - val_loss: 4.0878 - val_acc: 0.7436\n",
      "Epoch 10/25\n",
      "156/156 [==============================] - 0s 158us/step - loss: 0.3401 - acc: 0.8782 - val_loss: 4.0878 - val_acc: 0.7436\n",
      "Epoch 11/25\n",
      "156/156 [==============================] - 0s 174us/step - loss: 0.3070 - acc: 0.9231 - val_loss: 4.0878 - val_acc: 0.7436\n",
      "Epoch 12/25\n",
      "156/156 [==============================] - 0s 167us/step - loss: 0.2885 - acc: 0.9295 - val_loss: 4.0878 - val_acc: 0.7436\n",
      "Epoch 13/25\n",
      "156/156 [==============================] - 0s 182us/step - loss: 0.2562 - acc: 0.9231 - val_loss: 4.0878 - val_acc: 0.7436\n",
      "Epoch 14/25\n",
      "156/156 [==============================] - 0s 176us/step - loss: 0.2306 - acc: 0.9551 - val_loss: 4.0878 - val_acc: 0.7436\n",
      "Epoch 15/25\n",
      "156/156 [==============================] - 0s 182us/step - loss: 0.2054 - acc: 0.9615 - val_loss: 4.0878 - val_acc: 0.7436\n",
      "Epoch 16/25\n",
      "156/156 [==============================] - 0s 170us/step - loss: 0.1894 - acc: 0.9615 - val_loss: 4.0878 - val_acc: 0.7436\n",
      "Epoch 17/25\n",
      "156/156 [==============================] - 0s 170us/step - loss: 0.1710 - acc: 0.9679 - val_loss: 4.0878 - val_acc: 0.7436\n",
      "Epoch 18/25\n",
      "156/156 [==============================] - 0s 175us/step - loss: 0.1540 - acc: 0.9679 - val_loss: 4.0878 - val_acc: 0.7436\n",
      "Epoch 19/25\n",
      "156/156 [==============================] - 0s 191us/step - loss: 0.1436 - acc: 0.9744 - val_loss: 4.0878 - val_acc: 0.7436\n",
      "Epoch 20/25\n",
      "156/156 [==============================] - 0s 166us/step - loss: 0.1318 - acc: 0.9679 - val_loss: 4.0878 - val_acc: 0.7436\n",
      "Epoch 21/25\n",
      "156/156 [==============================] - 0s 169us/step - loss: 0.1160 - acc: 0.9808 - val_loss: 4.0878 - val_acc: 0.7436\n",
      "Epoch 22/25\n",
      "156/156 [==============================] - 0s 208us/step - loss: 0.1072 - acc: 0.9808 - val_loss: 4.0878 - val_acc: 0.7436\n",
      "Epoch 23/25\n",
      "156/156 [==============================] - 0s 162us/step - loss: 0.0909 - acc: 0.9872 - val_loss: 4.0878 - val_acc: 0.7436\n",
      "Epoch 24/25\n",
      "156/156 [==============================] - 0s 163us/step - loss: 0.0831 - acc: 0.9872 - val_loss: 4.0878 - val_acc: 0.7436\n",
      "Epoch 25/25\n",
      "156/156 [==============================] - 0s 153us/step - loss: 0.0752 - acc: 0.9936 - val_loss: 4.0878 - val_acc: 0.7436\n"
     ]
    },
    {
     "data": {
      "text/plain": [
       "<keras.callbacks.History at 0x7f87ec551128>"
      ]
     },
     "execution_count": 131,
     "metadata": {
      "tags": []
     },
     "output_type": "execute_result"
    }
   ],
   "source": [
    "model.fit(x=x_train_normal, y=y_train, batch_size=16, epochs=25, verbose=1, validation_data=(x_test, y_test),class_weight=class_weight)"
   ]
  },
  {
   "cell_type": "code",
   "execution_count": 0,
   "metadata": {
    "colab": {},
    "colab_type": "code",
    "id": "N_yX90uym5Jq"
   },
   "outputs": [],
   "source": [
    "y_res = model.predict(x_test)"
   ]
  },
  {
   "cell_type": "code",
   "execution_count": 106,
   "metadata": {
    "colab": {
     "base_uri": "https://localhost:8080/",
     "height": 34
    },
    "colab_type": "code",
    "executionInfo": {
     "elapsed": 1025,
     "status": "ok",
     "timestamp": 1544126010814,
     "user": {
      "displayName": "Himanshu Sharma",
      "photoUrl": "",
      "userId": "01462476739610356267"
     },
     "user_tz": -330
    },
    "id": "wfF5DiC6o8oD",
    "outputId": "92deb3b7-e062-4c0f-fee8-aee3bacfad2b"
   },
   "outputs": [
    {
     "data": {
      "text/plain": [
       "(39, 1)"
      ]
     },
     "execution_count": 106,
     "metadata": {
      "tags": []
     },
     "output_type": "execute_result"
    }
   ],
   "source": [
    "y_res.shape"
   ]
  },
  {
   "cell_type": "code",
   "execution_count": 107,
   "metadata": {
    "colab": {
     "base_uri": "https://localhost:8080/",
     "height": 680
    },
    "colab_type": "code",
    "executionInfo": {
     "elapsed": 823,
     "status": "ok",
     "timestamp": 1544126010816,
     "user": {
      "displayName": "Himanshu Sharma",
      "photoUrl": "",
      "userId": "01462476739610356267"
     },
     "user_tz": -330
    },
    "id": "MDQdeFfto-lu",
    "outputId": "de657721-3a07-4919-c489-2b8f670b9fa5"
   },
   "outputs": [
    {
     "data": {
      "text/plain": [
       "array([[0.],\n",
       "       [0.],\n",
       "       [0.],\n",
       "       [0.],\n",
       "       [0.],\n",
       "       [0.],\n",
       "       [0.],\n",
       "       [0.],\n",
       "       [0.],\n",
       "       [0.],\n",
       "       [0.],\n",
       "       [0.],\n",
       "       [0.],\n",
       "       [0.],\n",
       "       [0.],\n",
       "       [0.],\n",
       "       [0.],\n",
       "       [0.],\n",
       "       [0.],\n",
       "       [0.],\n",
       "       [0.],\n",
       "       [0.],\n",
       "       [0.],\n",
       "       [0.],\n",
       "       [0.],\n",
       "       [0.],\n",
       "       [0.],\n",
       "       [0.],\n",
       "       [0.],\n",
       "       [0.],\n",
       "       [0.],\n",
       "       [0.],\n",
       "       [0.],\n",
       "       [0.],\n",
       "       [0.],\n",
       "       [0.],\n",
       "       [0.],\n",
       "       [0.],\n",
       "       [0.]], dtype=float32)"
      ]
     },
     "execution_count": 107,
     "metadata": {
      "tags": []
     },
     "output_type": "execute_result"
    }
   ],
   "source": [
    "y_res"
   ]
  },
  {
   "cell_type": "code",
   "execution_count": 80,
   "metadata": {
    "colab": {
     "base_uri": "https://localhost:8080/",
     "height": 680
    },
    "colab_type": "code",
    "executionInfo": {
     "elapsed": 900,
     "status": "ok",
     "timestamp": 1544125913131,
     "user": {
      "displayName": "Himanshu Sharma",
      "photoUrl": "",
      "userId": "01462476739610356267"
     },
     "user_tz": -330
    },
    "id": "GTeFX-NPo_8Q",
    "outputId": "7fd2ba49-8a94-4a06-995e-a4f34ad9d4a0"
   },
   "outputs": [
    {
     "data": {
      "text/plain": [
       "[1,\n",
       " 1,\n",
       " 1,\n",
       " 0,\n",
       " 1,\n",
       " 1,\n",
       " 1,\n",
       " 1,\n",
       " 0,\n",
       " 1,\n",
       " 1,\n",
       " 0,\n",
       " 1,\n",
       " 1,\n",
       " 1,\n",
       " 0,\n",
       " 1,\n",
       " 1,\n",
       " 1,\n",
       " 1,\n",
       " 0,\n",
       " 1,\n",
       " 1,\n",
       " 1,\n",
       " 1,\n",
       " 1,\n",
       " 1,\n",
       " 1,\n",
       " 1,\n",
       " 0,\n",
       " 1,\n",
       " 0,\n",
       " 1,\n",
       " 0,\n",
       " 1,\n",
       " 1,\n",
       " 0,\n",
       " 1,\n",
       " 0]"
      ]
     },
     "execution_count": 80,
     "metadata": {
      "tags": []
     },
     "output_type": "execute_result"
    }
   ],
   "source": [
    "y_test"
   ]
  },
  {
   "cell_type": "code",
   "execution_count": 0,
   "metadata": {
    "colab": {},
    "colab_type": "code",
    "id": "2WsSYivJpCq2"
   },
   "outputs": [],
   "source": []
  }
 ],
 "metadata": {
  "colab": {
   "name": "Park VOice.ipynb",
   "provenance": [],
   "version": "0.3.2"
  },
  "kernelspec": {
   "display_name": "Python 3",
   "language": "python",
   "name": "python3"
  },
  "language_info": {
   "codemirror_mode": {
    "name": "ipython",
    "version": 3
   },
   "file_extension": ".py",
   "mimetype": "text/x-python",
   "name": "python",
   "nbconvert_exporter": "python",
   "pygments_lexer": "ipython3",
   "version": "3.6.5"
  }
 },
 "nbformat": 4,
 "nbformat_minor": 1
}
